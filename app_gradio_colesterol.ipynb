{
 "cells": [
  {
   "cell_type": "code",
   "execution_count": 2,
   "metadata": {},
   "outputs": [],
   "source": [
    "import gradio as gr\n",
    "import joblib\n",
    "import pandas as pd"
   ]
  },
  {
   "cell_type": "code",
   "execution_count": 4,
   "metadata": {},
   "outputs": [],
   "source": [
    "modelo = joblib.load('./model_colesterol.pkl')"
   ]
  },
  {
   "cell_type": "code",
   "execution_count": 52,
   "metadata": {},
   "outputs": [],
   "source": [
    "def predict(grupo_sanguineo, fumante, nivel_atividade_fisica, idade, peso ,altura):\n",
    "  predicao_individual={\n",
    "  'grupo_sanguineo':grupo_sanguineo,\n",
    "  'fumante': fumante,\n",
    "  'nivel_atividade_fisica':nivel_atividade_fisica,\n",
    "  'idade': idade,\n",
    "  'peso': peso,\n",
    "  'altura': altura\n",
    "}\n",
    "\n",
    "  predict_df = pd.DataFrame(predicao_individual, index=[1])\n",
    "  colesterol = modelo.predict(predict_df)\n",
    "\n",
    "  return colesterol.reshape(-1)"
   ]
  },
  {
   "cell_type": "code",
   "execution_count": 55,
   "metadata": {},
   "outputs": [],
   "source": [
    "demo = gr.Interface(\n",
    "  fn=predict,\n",
    "  inputs=[\n",
    "    gr.Radio(['A', 'B', 'AB', 'O'], label=\"Grupo Sanguíneo\"),\n",
    "    gr.Radio(['Sim', 'Não'], label=\"Fumante\"),\n",
    "    gr.Radio(['Alto', 'Moderado', 'Baixo'], label=\"Nível de Atividade Física\"),\n",
    "    gr.Slider(20,80, step=1, label=\"Idade\"),\n",
    "    gr.Slider(40,160, step=0.1, label=\"Peso\"),\n",
    "    gr.Slider(150,200, step=1, label=\"Altura\")\n",
    "  ],\n",
    "  outputs='number',\n",
    "  title='Predição de Colesterol',\n",
    "  description='Modelo para predição de colesterol'\n",
    ")"
   ]
  },
  {
   "cell_type": "code",
   "execution_count": 58,
   "metadata": {},
   "outputs": [
    {
     "name": "stdout",
     "output_type": "stream",
     "text": [
      "Rerunning server... use `close()` to stop if you need to change `launch()` parameters.\n",
      "----\n",
      "Running on public URL: https://3b830f7733fb2b5cda.gradio.live\n",
      "\n",
      "This share link expires in 72 hours. For free permanent hosting and GPU upgrades, run `gradio deploy` from Terminal to deploy to Spaces (https://huggingface.co/spaces)\n"
     ]
    },
    {
     "data": {
      "text/html": [
       "<div><iframe src=\"https://3b830f7733fb2b5cda.gradio.live\" width=\"100%\" height=\"500\" allow=\"autoplay; camera; microphone; clipboard-read; clipboard-write;\" frameborder=\"0\" allowfullscreen></iframe></div>"
      ],
      "text/plain": [
       "<IPython.core.display.HTML object>"
      ]
     },
     "metadata": {},
     "output_type": "display_data"
    },
    {
     "data": {
      "text/plain": []
     },
     "execution_count": 58,
     "metadata": {},
     "output_type": "execute_result"
    }
   ],
   "source": [
    "demo.launch(share=True)"
   ]
  },
  {
   "cell_type": "code",
   "execution_count": null,
   "metadata": {},
   "outputs": [],
   "source": []
  }
 ],
 "metadata": {
  "kernelspec": {
   "display_name": "cholesterol-model-EtTOL2FQ",
   "language": "python",
   "name": "python3"
  },
  "language_info": {
   "codemirror_mode": {
    "name": "ipython",
    "version": 3
   },
   "file_extension": ".py",
   "mimetype": "text/x-python",
   "name": "python",
   "nbconvert_exporter": "python",
   "pygments_lexer": "ipython3",
   "version": "3.12.3"
  }
 },
 "nbformat": 4,
 "nbformat_minor": 2
}
